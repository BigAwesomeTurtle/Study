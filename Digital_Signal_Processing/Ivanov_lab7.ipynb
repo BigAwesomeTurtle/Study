{
 "cells": [
  {
   "cell_type": "markdown",
   "metadata": {},
   "source": [
    "# Глава 7 (Иванов Илья, группа 3530901/70203)"
   ]
  },
  {
   "cell_type": "markdown",
   "metadata": {},
   "source": [
    "## Теория\n",
    "Зная дискретное косинусное преобразование (ДКП), легко понять и ДПФ. Вся разница в том, что вместо косинусов используются комплексные экспоненциальные функции."
   ]
  },
  {
   "cell_type": "markdown",
   "metadata": {},
   "source": [
    "### Комплексные экспоненты\n",
    "Леонард Эйлер нашёл одно из самых полезных обобщений в прикладной математике - комплексную экспоненциальную функцию.\n",
    "\n",
    "Простое определение потенцирования - это последовательное умножение, например !!!. Но это определение не годится для дробных степеней.\n",
    "\n",
    "Потенцирование можно выразить в виде степенного ряда: !!!\n",
    "\n",
    "Это определение верно для вещественных чисел, для мнимых чисел и, простым расширением, для комплексных чисел. Применив это определение к чисто мнимому числу !!!, получим: !!!\n",
    "\n",
    "Перестановкой членов можно показать, что это эквивалентно !!!\n",
    "\n",
    "Предполагается, что !!! - это комплексное число с модулем 1; соответствующая ему точка на комплексной плоскости всегда расположена на единичной окружности. Если представить число как вектор, то угол !!! между вектором и положительной осью !!!, выраженный в радианах, - это аргумент.\n",
    "\n",
    "В случае, когда показатель степени - комплексное число, получим:!!!\n",
    "\n",
    "где !!! - действительное число, определяющее модуль (амплитуду), а !!! - единичное комплексное число, определяющее угол (фазу)."
   ]
  },
  {
   "cell_type": "markdown",
   "metadata": {},
   "source": [
    "### Комплексные сигналы\n",
    "Если !!! функция времени, !!! - также функция времени. В частности: !!!\n",
    "\n",
    "Эта функция описывает величину, изменяющуюся во времени, то есть сигнал. В частности, это комплексный экспоненциальный сигнал.\n",
    "\n",
    "В особом случае, когда частота сигнала постоянна, !!! есть !!!, а результат - комплексная синусоида: !!!\n",
    "\n",
    "В общем случае у сигнала может быть ненулевая начальная фаза !!!, что даёт: !!!"
   ]
  },
  {
   "cell_type": "markdown",
   "metadata": {},
   "source": [
    "### Задача синтеза\n",
    "Сложные сигналы можно создавать сложением не только действительных, но и комплексных синусоид с разными частотами. Это задача синтеза в комплексной форме: как оценить сигнал, имея частоты и амплитуды каждой комплексной компоненты?\n",
    "\n",
    "Простейшее решение - создать объекты `ComplexSinusoid` и сложить их.\n",
    "\n",
    "Попросту говоря, комплексный сигнал - это последовательность комплексных чисел. Но как его интерпретировать? С действительными сигналами всё понятно: величины, изменяющиеся во времени. Но обычные измерения никогда не дают комплексных чисел.\n",
    "\n",
    "Так что же это такое - комплексный сигнал? Лучшее, что можно предложить, - два частных ответа:\n",
    "\n",
    "1) Комплексный сигнал есть математическая абстракция, полезная при расчётах и анализе, но напрямую она не соответствует ничему в реальном мире.\n",
    "\n",
    "2) Комплексный сигнал - это последовательность комплексных чисел, то есть два сигнала, составляющие действительную и мнимую части."
   ]
  },
  {
   "cell_type": "markdown",
   "metadata": {},
   "source": [
    "### Задача анализа\n",
    "Задача анализа обратна задаче синтеза: имея последовательность образцов,!!! , и зная частоты, имеющиеся в сигнале, как вычислить комплексные амплитуды компонент?\n",
    "\n",
    "В главе №6 было показано, как можно решить эту проблему созданием матрицы синтеза !!! и решением системы линейных уравнений !!!."
   ]
  },
  {
   "cell_type": "markdown",
   "metadata": {},
   "source": [
    "### Эффективный анализ\n",
    "К сожалению, решение системы линейных уравнений идёт медленно. ДКП получилось ускорить таким выбором `fs` и `ts`, чтобы !!! стала ортогональной. Тогда обратная !!! аналогична транспонированной !!!; значит, и ДКП, и обратное ДКП можно вычислить перемножением матриц.\n",
    "\n",
    "Для ДПФ всё работает аналогично, но с небольшим изменением. Так как !!! комплексная, она должна быть унитарной, а не ортогональной, так что обратная !!! будет комплексно-сопряжённой к транспонированной !!!, которую можно вычислить транспонированием матрицы и переменой знака у мнимой части каждого элемента."
   ]
  },
  {
   "cell_type": "markdown",
   "metadata": {},
   "source": [
    "### Периодичность ДПФ\n",
    "В этой главе ДПФ представлено в виде перемножения матриц. Вычисляется матрица синтеза !!! и матрица анализа !!!. При умножении !!! на массив сигнала !!! каждый элемент результата есть произведение строки из !!! и !!!, которое можно записать в виде суммы: !!!\n",
    "\n",
    "где !!! - индекс частоты от 0 до !!!, а !!! - индекс времени от 0 до !!!. Так что !!! - это !!!-й элемент ДПФ от !!!.\n",
    "\n",
    "Обычно это сумма !!! значений !!!, в порядке от 0 до !!!. Можно оценить её и для иных значений !!!, но в этом нет смысла, так как они начинают повторяться. Иными словами, значение в !!! то же, что и в !!! или !!! или !!! и т.д. ДПФ периодично, с периодом !!!."
   ]
  },
  {
   "cell_type": "markdown",
   "metadata": {},
   "source": [
    "## Упражнения"
   ]
  },
  {
   "cell_type": "code",
   "execution_count": 1,
   "metadata": {},
   "outputs": [],
   "source": [
    "from __future__ import print_function, division\n",
    "\n",
    "import thinkdsp\n",
    "import thinkplot\n",
    "\n",
    "import numpy as np\n",
    "\n",
    "import warnings\n",
    "warnings.filterwarnings('ignore')\n",
    "\n",
    "PI2 = 2 * np.pi\n",
    "\n",
    "np.set_printoptions(precision=3, suppress=True)\n",
    "%matplotlib inline"
   ]
  },
  {
   "cell_type": "markdown",
   "metadata": {},
   "source": [
    "### Упражнение 7.1.\n",
    "The notebook for this chapter, chap07.ipynb, contains additional examples and explanations. Read through it and run the code."
   ]
  },
  {
   "cell_type": "markdown",
   "metadata": {},
   "source": [
    "` chap07.ipynb` был просмотрен и разобран."
   ]
  },
  {
   "cell_type": "markdown",
   "metadata": {},
   "source": [
    "### Упражнение 7.2.\n",
    "In this chapter, I showed how we can express the DFT and inverse DFT as matrix multiplications. These operations take time proportional to !!!, where !! is the length of the wave array. That is fast enough for many applications, but there is a faster algorithm, the Fast Fourier Transform (FFT), which takes time proportional to !!!.\n",
    "\n",
    "The key to the FFT is the Danielson-Lanczos lemma:!!!\n",
    "\n",
    "\n",
    "Where !!! is the !!!th element of the DFT of !!!; !!! is a wave array containing the even elements of !!!, and !!! contains the odd elements of !!!.\n",
    "\n",
    "This lemma suggests a recursive algorithm for the DFT:\n",
    "1. Given a wave array, !!!, split it into its even elements, !!!, and its odd elements, !!!.\n",
    "2. Compute the DFT of !!! and !!! by making recursive calls.\n",
    "3. Compute DFT(!!!) for each value of !!! using the Danielson-Lanczos lemma.\n",
    "\n",
    "For the base case of this recursion, you could wait until the length of !!! is 1. In that case, DFT(!!!) = !!!. Or if the length of !!! is sufficiently small, you couldcompute its DFT by matrix multiplication, possibly using a precomputed matrix.\n",
    "\n",
    "Hint: I suggest you implement this algorithm incrementally by starting with a version that is not truly recursive. In Step 2, instead of making a recursive call, use dft, as defined by Section 7.7, or np.fft.fft. Get Step 3 working, and confirm that the results are consistent with the other implementations. Then add a base case and confirm that it works. Finally, replace Step 2 with recursive calls.\n",
    "\n",
    "One more hint: Remember that the DFT is periodic; you might find np.tile useful.\n"
   ]
  },
  {
   "cell_type": "markdown",
   "metadata": {},
   "source": [
    "Начнём с небольшого реального сигнала и вычислим его БПФ."
   ]
  },
  {
   "cell_type": "code",
   "execution_count": 2,
   "metadata": {},
   "outputs": [
    {
     "name": "stdout",
     "output_type": "stream",
     "text": [
      "[ 0.2+0.j  -1.2-0.2j  0.2+0.j  -1.2+0.2j]\n"
     ]
    }
   ],
   "source": [
    "ys = [-0.5, 0.1, 0.7, -0.1]\n",
    "hs = np.fft.fft(ys)\n",
    "print(hs)"
   ]
  },
  {
   "cell_type": "markdown",
   "metadata": {},
   "source": [
    "Класс, реализующий ДПФ:"
   ]
  },
  {
   "cell_type": "code",
   "execution_count": 3,
   "metadata": {},
   "outputs": [],
   "source": [
    "def dft(ys):\n",
    "    N = len(ys)\n",
    "    ts = np.arange(N) / N\n",
    "    freqs = np.arange(N)\n",
    "    args = np.outer(ts, freqs)\n",
    "    M = np.exp(1j * PI2 * args)\n",
    "    amps = M.conj().transpose().dot(ys)\n",
    "    return amps"
   ]
  },
  {
   "cell_type": "markdown",
   "metadata": {},
   "source": [
    "Проверим, выдаёт ли эта реализация тот же результат, что и `np.fft.fft`:"
   ]
  },
  {
   "cell_type": "code",
   "execution_count": 4,
   "metadata": {},
   "outputs": [
    {
     "name": "stdout",
     "output_type": "stream",
     "text": [
      "5.864775846765962e-16\n"
     ]
    }
   ],
   "source": [
    "hs2 = dft(ys)\n",
    "print(sum(abs(hs - hs2)))"
   ]
  },
  {
   "cell_type": "markdown",
   "metadata": {},
   "source": [
    "Результаты одинаковые с точностью до ошибок округления.\n",
    "\n",
    "В качестве шага к созданию рекурсивного БПФ начнём с версии, которая разбивает входной массив на две части и использует `np.fft.fft` для вычисления БПФ половин:"
   ]
  },
  {
   "cell_type": "code",
   "execution_count": 5,
   "metadata": {},
   "outputs": [],
   "source": [
    "def fft_norec(ys):\n",
    "    N = len(ys)\n",
    "    He = np.fft.fft(ys[::2])\n",
    "    Ho = np.fft.fft(ys[1::2])\n",
    "    \n",
    "    ns = np.arange(N)\n",
    "    W = np.exp(-1j * PI2 * ns / N)\n",
    "    \n",
    "    return np.tile(He, 2) + W * np.tile(Ho, 2)"
   ]
  },
  {
   "cell_type": "markdown",
   "metadata": {},
   "source": [
    "Получаем такой же результат:"
   ]
  },
  {
   "cell_type": "code",
   "execution_count": 6,
   "metadata": {},
   "outputs": [
    {
     "name": "stdout",
     "output_type": "stream",
     "text": [
      "0.0\n"
     ]
    }
   ],
   "source": [
    "hs3 = fft_norec(ys)\n",
    "print(sum(abs(hs - hs3)))"
   ]
  },
  {
   "cell_type": "markdown",
   "metadata": {},
   "source": [
    "Наконец, заменим `np.fft.fft` рекурсивными вызовами и добавим базовый случай:"
   ]
  },
  {
   "cell_type": "code",
   "execution_count": 7,
   "metadata": {},
   "outputs": [],
   "source": [
    "def fft(ys):\n",
    "    N = len(ys)\n",
    "    if N == 1:\n",
    "        return ys\n",
    "    \n",
    "    He = fft(ys[::2])\n",
    "    Ho = fft(ys[1::2])\n",
    "    \n",
    "    ns = np.arange(N)\n",
    "    W = np.exp(-1j * PI2 * ns / N)\n",
    "    \n",
    "    return np.tile(He, 2) + W * np.tile(Ho, 2)"
   ]
  },
  {
   "cell_type": "markdown",
   "metadata": {},
   "source": [
    "Опять получаем тот же результат: "
   ]
  },
  {
   "cell_type": "code",
   "execution_count": 8,
   "metadata": {},
   "outputs": [
    {
     "name": "stdout",
     "output_type": "stream",
     "text": [
      "1.6653345369377348e-16\n"
     ]
    }
   ],
   "source": [
    "hs4 = fft(ys)\n",
    "print(sum(abs(hs - hs4)))"
   ]
  },
  {
   "cell_type": "markdown",
   "metadata": {},
   "source": [
    "Эта реализация FFT занимает время, пропорциональное !!! и память, пропорциональную !!!, а также тратит время на создание и копирование массивов."
   ]
  },
  {
   "cell_type": "code",
   "execution_count": null,
   "metadata": {},
   "outputs": [],
   "source": []
  }
 ],
 "metadata": {
  "kernelspec": {
   "display_name": "Python 3",
   "language": "python",
   "name": "python3"
  },
  "language_info": {
   "codemirror_mode": {
    "name": "ipython",
    "version": 3
   },
   "file_extension": ".py",
   "mimetype": "text/x-python",
   "name": "python",
   "nbconvert_exporter": "python",
   "pygments_lexer": "ipython3",
   "version": "3.7.2"
  }
 },
 "nbformat": 4,
 "nbformat_minor": 4
}
